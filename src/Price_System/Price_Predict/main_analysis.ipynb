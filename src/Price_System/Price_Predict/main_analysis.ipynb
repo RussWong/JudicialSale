{
 "cells": [
  {
   "cell_type": "code",
   "execution_count": 1,
   "metadata": {},
   "outputs": [],
   "source": [
    "import sys\n",
    "import pandas as pd\n",
    "import numpy as np\n",
    "import matplotlib.pyplot as plt\n",
    "from pylab import mpl\n",
    "import json\n",
    "sys.path.append('./module/')\n",
    "sys.path.append('/home/zhangjianquan/anaconda3/lib/python3.7/site-packages/')\n",
    "from predict_analysis import predict_analysis"
   ]
  },
  {
   "cell_type": "code",
   "execution_count": 2,
   "metadata": {},
   "outputs": [
    {
     "name": "stderr",
     "output_type": "stream",
     "text": [
      "Setting feature_perturbation = \"tree_path_dependent\" because no background data was given.\n",
      "findfont: Font family ['sans-serif'] not found. Falling back to DejaVu Sans.\n",
      "findfont: Font family ['sans-serif'] not found. Falling back to DejaVu Sans.\n"
     ]
    },
    {
     "data": {
      "image/png": "[encoded data removed]",
      "text/plain": [
       "<Figure size 720x576 with 1 Axes>"
      ]
     },
     "metadata": {
      "needs_background": "light"
     },
     "output_type": "display_data"
    }
   ],
   "source": [
    "# bagging\n",
    "name_of_model = 'xgboost'\n",
    "model_path = '../../../output/Price_System/Price_Predict/model/price_predict_xgboost.pkl'\n",
    "data_path = '../../../output/Price_System/Price_Predict/results/xgboost_train_X.csv'\n",
    "output_path = '../../../output/Price_System/Price_Predict/analysis/xgboost_shap.png'\n",
    "predict_analysis(model_path=model_path,\n",
    "                 name_of_model=name_of_model,\n",
    "                 data_path=data_path,\n",
    "                 output_path=output_path)"
   ]
  },
  {
   "cell_type": "code",
   "execution_count": null,
   "metadata": {
    "scrolled": true
   },
   "outputs": [
    {
     "name": "stderr",
     "output_type": "stream",
     "text": [
      "Using 40246 background data samples could cause slower run times. Consider using shap.sample(data, K) or shap.kmeans(data, K) to summarize the background as K samples.\n"
     ]
    },
    {
     "data": {
      "application/vnd.jupyter.widget-view+json": {
       "model_id": "83ccf45478ae475c816c0bb7b85eb2d5",
       "version_major": 2,
       "version_minor": 0
      },
      "text/plain": [
       "HBox(children=(FloatProgress(value=0.0), HTML(value='')))"
      ]
     },
     "metadata": {},
     "output_type": "display_data"
    }
   ],
   "source": [
    "# bayesianridge\n",
    "name_of_model = 'bayesianridge'\n",
    "model_path = '../../../output/Price_System/Price_Predict/model/price_predict_bayesianridge.pkl'\n",
    "data_path = '../../../output/Price_System/Price_Predict/results/bayesianridge_train_X.csv'\n",
    "output_path = '../../../output/Price_System/Price_Predict/analysis/bayesianridge_shap.png'\n",
    "predict_analysis(model_path=model_path,\n",
    "                 name_of_model=name_of_model,\n",
    "                 data_path=data_path,\n",
    "                 output_path=output_path)"
   ]
  },
  {
   "cell_type": "code",
   "execution_count": null,
   "metadata": {},
   "outputs": [],
   "source": [
    "# lasso\n",
    "name_of_model = 'lasso'\n",
    "model_path = '../../../output/Price_System/Price_Predict/model/price_predict_lasso.pkl'\n",
    "data_path = '../../../output/Price_System/Price_Predict/results/lasso_train_X.csv'\n",
    "output_path = '../../../output/Price_System/Price_Predict/analysis/lasso_shap.png'\n",
    "predict_analysis(model_path=model_path,\n",
    "                 name_of_model=name_of_model,\n",
    "                 data_path=data_path,\n",
    "                 output_path=output_path)"
   ]
  },
  {
   "cell_type": "code",
   "execution_count": null,
   "metadata": {},
   "outputs": [],
   "source": [
    "# gradientboosting\n",
    "name_of_model = 'gradientboosting'\n",
    "model_path = '../../../output/Price_System/Price_Predict/model/price_predict_gradientboosting.pkl'\n",
    "data_path = '../../../output/Price_System/Price_Predict/results/gradientboosting_train_X.csv'\n",
    "output_path = '../../../output/Price_System/Price_Predict/analysis/gradientboosting_shap.png'\n",
    "predict_analysis(model_path=model_path,\n",
    "                 name_of_model=name_of_model,\n",
    "                 data_path=data_path,\n",
    "                 output_path=output_path)"
   ]
  },
  {
   "cell_type": "code",
   "execution_count": null,
   "metadata": {},
   "outputs": [],
   "source": [
    "# bagging\n",
    "name_of_model = 'bagging'\n",
    "model_path = '../../../output/Price_System/Price_Predict/model/price_predict_bagging.pkl'\n",
    "data_path = '../../../output/Price_System/Price_Predict/results/bagging_train_X.csv'\n",
    "output_path = '../../../output/Price_System/Price_Predict/analysis/bagging_shap.png'\n",
    "predict_analysis(model_path=model_path,\n",
    "                 name_of_model=name_of_model,\n",
    "                 data_path=data_path,\n",
    "                 output_path=output_path)"
   ]
  },
  {
   "cell_type": "code",
   "execution_count": null,
   "metadata": {},
   "outputs": [],
   "source": [
    "tmp = 'finish'"
   ]
  },
  {
   "cell_type": "code",
   "execution_count": null,
   "metadata": {},
   "outputs": [],
   "source": [
    "print(tmp)"
   ]
  }
 ],
 "metadata": {
  "kernelspec": {
   "display_name": "Python 3",
   "language": "python",
   "name": "python3"
  },
  "language_info": {
   "codemirror_mode": {
    "name": "ipython",
    "version": 3
   },
   "file_extension": ".py",
   "mimetype": "text/x-python",
   "name": "python",
   "nbconvert_exporter": "python",
   "pygments_lexer": "ipython3",
   "version": "3.7.5"
  }
 },
 "nbformat": 4,
 "nbformat_minor": 2
}
