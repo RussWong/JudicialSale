{
 "cells": [
  {
   "cell_type": "code",
   "execution_count": 1,
   "metadata": {},
   "outputs": [],
   "source": [
    "import sys\n",
    "import pandas as pd\n",
    "import numpy as np\n",
    "import matplotlib.pyplot as plt\n",
    "from pylab import mpl\n",
    "import json\n",
    "sys.path.append('./module/')\n",
    "sys.path.append('/home/zhangjianquan/anaconda3/lib/python3.7/site-packages/')"
   ]
  },
  {
   "cell_type": "code",
   "execution_count": 2,
   "metadata": {},
   "outputs": [
    {
     "data": {
      "text/html": [
       "<div>\n",
       "<style scoped>\n",
       "    .dataframe tbody tr th:only-of-type {\n",
       "        vertical-align: middle;\n",
       "    }\n",
       "\n",
       "    .dataframe tbody tr th {\n",
       "        vertical-align: top;\n",
       "    }\n",
       "\n",
       "    .dataframe thead th {\n",
       "        text-align: right;\n",
       "    }\n",
       "</style>\n",
       "<table border=\"1\" class=\"dataframe\">\n",
       "  <thead>\n",
       "    <tr style=\"text-align: right;\">\n",
       "      <th></th>\n",
       "      <th>ID</th>\n",
       "      <th>Region</th>\n",
       "      <th>Road</th>\n",
       "      <th>Community_Name</th>\n",
       "      <th>House_Type</th>\n",
       "      <th>Transaction_Time</th>\n",
       "      <th>Final_Price</th>\n",
       "      <th>Unit_Price</th>\n",
       "      <th>Listing_Price</th>\n",
       "      <th>Transaction_Cycle</th>\n",
       "      <th>...</th>\n",
       "      <th>Trading_Authority</th>\n",
       "      <th>Listing_Time</th>\n",
       "      <th>Housing_Purposes</th>\n",
       "      <th>House_Ownership</th>\n",
       "      <th>Year_Of_Housing</th>\n",
       "      <th>Storey</th>\n",
       "      <th>Ladder</th>\n",
       "      <th>Household</th>\n",
       "      <th>Num_Bedroom</th>\n",
       "      <th>Num_Hall</th>\n",
       "    </tr>\n",
       "  </thead>\n",
       "  <tbody>\n",
       "    <tr>\n",
       "      <th>0</th>\n",
       "      <td>107100261662</td>\n",
       "      <td>浦东</td>\n",
       "      <td>三林</td>\n",
       "      <td>城林雅苑</td>\n",
       "      <td>1室1厅</td>\n",
       "      <td>2018-09-30</td>\n",
       "      <td>218.0</td>\n",
       "      <td>46502.0</td>\n",
       "      <td>235.0</td>\n",
       "      <td>149.0</td>\n",
       "      <td>...</td>\n",
       "      <td>动迁安置房</td>\n",
       "      <td>2018-05-05</td>\n",
       "      <td>普通住宅</td>\n",
       "      <td>非共有</td>\n",
       "      <td>NaN</td>\n",
       "      <td>28.0</td>\n",
       "      <td>1.0</td>\n",
       "      <td>6.0</td>\n",
       "      <td>1.0</td>\n",
       "      <td>1.0</td>\n",
       "    </tr>\n",
       "    <tr>\n",
       "      <th>1</th>\n",
       "      <td>107100668755</td>\n",
       "      <td>浦东</td>\n",
       "      <td>源深</td>\n",
       "      <td>盛世年华</td>\n",
       "      <td>3室2厅</td>\n",
       "      <td>2018-09-30</td>\n",
       "      <td>1620.0</td>\n",
       "      <td>107613.0</td>\n",
       "      <td>1680.0</td>\n",
       "      <td>8.0</td>\n",
       "      <td>...</td>\n",
       "      <td>商品房</td>\n",
       "      <td>2018-09-23</td>\n",
       "      <td>普通住宅</td>\n",
       "      <td>共有</td>\n",
       "      <td>NaN</td>\n",
       "      <td>32.0</td>\n",
       "      <td>2.0</td>\n",
       "      <td>2.0</td>\n",
       "      <td>3.0</td>\n",
       "      <td>2.0</td>\n",
       "    </tr>\n",
       "    <tr>\n",
       "      <th>2</th>\n",
       "      <td>107100566972</td>\n",
       "      <td>浦东</td>\n",
       "      <td>世博</td>\n",
       "      <td>雪野二村</td>\n",
       "      <td>2室1厅</td>\n",
       "      <td>2018-09-30</td>\n",
       "      <td>368.0</td>\n",
       "      <td>62089.0</td>\n",
       "      <td>380.0</td>\n",
       "      <td>43.0</td>\n",
       "      <td>...</td>\n",
       "      <td>商品房</td>\n",
       "      <td>2018-08-19</td>\n",
       "      <td>普通住宅</td>\n",
       "      <td>非共有</td>\n",
       "      <td>NaN</td>\n",
       "      <td>6.0</td>\n",
       "      <td>1.0</td>\n",
       "      <td>4.0</td>\n",
       "      <td>2.0</td>\n",
       "      <td>1.0</td>\n",
       "    </tr>\n",
       "    <tr>\n",
       "      <th>3</th>\n",
       "      <td>107100390003</td>\n",
       "      <td>浦东</td>\n",
       "      <td>周浦</td>\n",
       "      <td>印象春城</td>\n",
       "      <td>2室2厅</td>\n",
       "      <td>2018-09-30</td>\n",
       "      <td>368.0</td>\n",
       "      <td>41242.0</td>\n",
       "      <td>388.0</td>\n",
       "      <td>105.0</td>\n",
       "      <td>...</td>\n",
       "      <td>商品房</td>\n",
       "      <td>2018-06-18</td>\n",
       "      <td>普通住宅</td>\n",
       "      <td>NaN</td>\n",
       "      <td>NaN</td>\n",
       "      <td>18.0</td>\n",
       "      <td>2.0</td>\n",
       "      <td>4.0</td>\n",
       "      <td>2.0</td>\n",
       "      <td>2.0</td>\n",
       "    </tr>\n",
       "    <tr>\n",
       "      <th>4</th>\n",
       "      <td>107100382965</td>\n",
       "      <td>浦东</td>\n",
       "      <td>康桥</td>\n",
       "      <td>双秀西园</td>\n",
       "      <td>2室2厅</td>\n",
       "      <td>2018-09-30</td>\n",
       "      <td>289.0</td>\n",
       "      <td>36125.0</td>\n",
       "      <td>310.0</td>\n",
       "      <td>108.0</td>\n",
       "      <td>...</td>\n",
       "      <td>动迁安置房</td>\n",
       "      <td>2018-06-15</td>\n",
       "      <td>普通住宅</td>\n",
       "      <td>共有</td>\n",
       "      <td>NaN</td>\n",
       "      <td>11.0</td>\n",
       "      <td>1.0</td>\n",
       "      <td>4.0</td>\n",
       "      <td>2.0</td>\n",
       "      <td>2.0</td>\n",
       "    </tr>\n",
       "  </tbody>\n",
       "</table>\n",
       "<p>5 rows × 35 columns</p>\n",
       "</div>"
      ],
      "text/plain": [
       "             ID Region Road Community_Name House_Type Transaction_Time  \\\n",
       "0  107100261662     浦东   三林           城林雅苑       1室1厅       2018-09-30   \n",
       "1  107100668755     浦东   源深           盛世年华       3室2厅       2018-09-30   \n",
       "2  107100566972     浦东   世博           雪野二村       2室1厅       2018-09-30   \n",
       "3  107100390003     浦东   周浦           印象春城       2室2厅       2018-09-30   \n",
       "4  107100382965     浦东   康桥           双秀西园       2室2厅       2018-09-30   \n",
       "\n",
       "   Final_Price  Unit_Price  Listing_Price  Transaction_Cycle  ...  \\\n",
       "0        218.0     46502.0          235.0              149.0  ...   \n",
       "1       1620.0    107613.0         1680.0                8.0  ...   \n",
       "2        368.0     62089.0          380.0               43.0  ...   \n",
       "3        368.0     41242.0          388.0              105.0  ...   \n",
       "4        289.0     36125.0          310.0              108.0  ...   \n",
       "\n",
       "   Trading_Authority  Listing_Time  Housing_Purposes  House_Ownership  \\\n",
       "0              动迁安置房    2018-05-05              普通住宅              非共有   \n",
       "1                商品房    2018-09-23              普通住宅               共有   \n",
       "2                商品房    2018-08-19              普通住宅              非共有   \n",
       "3                商品房    2018-06-18              普通住宅              NaN   \n",
       "4              动迁安置房    2018-06-15              普通住宅               共有   \n",
       "\n",
       "  Year_Of_Housing  Storey Ladder Household Num_Bedroom  Num_Hall  \n",
       "0             NaN    28.0    1.0       6.0         1.0       1.0  \n",
       "1             NaN    32.0    2.0       2.0         3.0       2.0  \n",
       "2             NaN     6.0    1.0       4.0         2.0       1.0  \n",
       "3             NaN    18.0    2.0       4.0         2.0       2.0  \n",
       "4             NaN    11.0    1.0       4.0         2.0       2.0  \n",
       "\n",
       "[5 rows x 35 columns]"
      ]
     },
     "execution_count": 2,
     "metadata": {},
     "output_type": "execute_result"
    }
   ],
   "source": [
    "raw_data=pd.read_csv('../../../Data/Price_System/Price_Predict/raw/house/used_house_data_test.csv')\n",
    "cols = ['House_Type', 'Transaction_Cycle', 'Num_Look',\n",
    "       'Attention', 'Construction_Area', 'Age', 'Renovation',\n",
    "       'Construction_struct', 'Ladder_Ratio', 'Elevator', 'Storey', 'Ladder',\n",
    "       'Household', 'Region', 'Road', 'Community_Name']\n",
    "raw_data = raw_data.head()\n",
    "raw_data"
   ]
  },
  {
   "cell_type": "code",
   "execution_count": 3,
   "metadata": {},
   "outputs": [
    {
     "data": {
      "text/plain": [
       "0     218.0\n",
       "1    1620.0\n",
       "2     368.0\n",
       "3     368.0\n",
       "4     289.0\n",
       "Name: Final_Price, dtype: float64"
      ]
     },
     "execution_count": 3,
     "metadata": {},
     "output_type": "execute_result"
    }
   ],
   "source": [
    "raw_data_price = raw_data['Final_Price']\n",
    "raw_data_price"
   ]
  },
  {
   "cell_type": "code",
   "execution_count": 4,
   "metadata": {},
   "outputs": [
    {
     "data": {
      "text/html": [
       "<div>\n",
       "<style scoped>\n",
       "    .dataframe tbody tr th:only-of-type {\n",
       "        vertical-align: middle;\n",
       "    }\n",
       "\n",
       "    .dataframe tbody tr th {\n",
       "        vertical-align: top;\n",
       "    }\n",
       "\n",
       "    .dataframe thead th {\n",
       "        text-align: right;\n",
       "    }\n",
       "</style>\n",
       "<table border=\"1\" class=\"dataframe\">\n",
       "  <thead>\n",
       "    <tr style=\"text-align: right;\">\n",
       "      <th></th>\n",
       "      <th>House_Type</th>\n",
       "      <th>Transaction_Cycle</th>\n",
       "      <th>Num_Look</th>\n",
       "      <th>Attention</th>\n",
       "      <th>Construction_Area</th>\n",
       "      <th>Age</th>\n",
       "      <th>Renovation</th>\n",
       "      <th>Construction_struct</th>\n",
       "      <th>Ladder_Ratio</th>\n",
       "      <th>Elevator</th>\n",
       "      <th>Storey</th>\n",
       "      <th>Ladder</th>\n",
       "      <th>Household</th>\n",
       "      <th>Region</th>\n",
       "      <th>Road</th>\n",
       "      <th>Community_Name</th>\n",
       "    </tr>\n",
       "  </thead>\n",
       "  <tbody>\n",
       "    <tr>\n",
       "      <th>0</th>\n",
       "      <td>1室1厅</td>\n",
       "      <td>149.0</td>\n",
       "      <td>4</td>\n",
       "      <td>9</td>\n",
       "      <td>46.0</td>\n",
       "      <td>2013.0</td>\n",
       "      <td>其他</td>\n",
       "      <td>钢混结构</td>\n",
       "      <td>一梯六户</td>\n",
       "      <td>有</td>\n",
       "      <td>28.0</td>\n",
       "      <td>1.0</td>\n",
       "      <td>6.0</td>\n",
       "      <td>浦东</td>\n",
       "      <td>三林</td>\n",
       "      <td>城林雅苑</td>\n",
       "    </tr>\n",
       "    <tr>\n",
       "      <th>1</th>\n",
       "      <td>3室2厅</td>\n",
       "      <td>8.0</td>\n",
       "      <td>4</td>\n",
       "      <td>8</td>\n",
       "      <td>150.0</td>\n",
       "      <td>2005.0</td>\n",
       "      <td>简装</td>\n",
       "      <td>钢混结构</td>\n",
       "      <td>两梯两户</td>\n",
       "      <td>有</td>\n",
       "      <td>32.0</td>\n",
       "      <td>2.0</td>\n",
       "      <td>2.0</td>\n",
       "      <td>浦东</td>\n",
       "      <td>源深</td>\n",
       "      <td>盛世年华</td>\n",
       "    </tr>\n",
       "    <tr>\n",
       "      <th>2</th>\n",
       "      <td>2室1厅</td>\n",
       "      <td>43.0</td>\n",
       "      <td>1</td>\n",
       "      <td>0</td>\n",
       "      <td>59.0</td>\n",
       "      <td>1986.0</td>\n",
       "      <td>精装</td>\n",
       "      <td>砖混结构</td>\n",
       "      <td>一梯四户</td>\n",
       "      <td>无</td>\n",
       "      <td>6.0</td>\n",
       "      <td>1.0</td>\n",
       "      <td>4.0</td>\n",
       "      <td>浦东</td>\n",
       "      <td>世博</td>\n",
       "      <td>雪野二村</td>\n",
       "    </tr>\n",
       "    <tr>\n",
       "      <th>3</th>\n",
       "      <td>2室2厅</td>\n",
       "      <td>105.0</td>\n",
       "      <td>18</td>\n",
       "      <td>167</td>\n",
       "      <td>89.0</td>\n",
       "      <td>2011.0</td>\n",
       "      <td>其他</td>\n",
       "      <td>钢混结构</td>\n",
       "      <td>两梯四户</td>\n",
       "      <td>有</td>\n",
       "      <td>18.0</td>\n",
       "      <td>2.0</td>\n",
       "      <td>4.0</td>\n",
       "      <td>浦东</td>\n",
       "      <td>周浦</td>\n",
       "      <td>印象春城</td>\n",
       "    </tr>\n",
       "    <tr>\n",
       "      <th>4</th>\n",
       "      <td>2室2厅</td>\n",
       "      <td>108.0</td>\n",
       "      <td>0</td>\n",
       "      <td>25</td>\n",
       "      <td>80.0</td>\n",
       "      <td>2008.0</td>\n",
       "      <td>其他</td>\n",
       "      <td>钢混结构</td>\n",
       "      <td>一梯四户</td>\n",
       "      <td>有</td>\n",
       "      <td>11.0</td>\n",
       "      <td>1.0</td>\n",
       "      <td>4.0</td>\n",
       "      <td>浦东</td>\n",
       "      <td>康桥</td>\n",
       "      <td>双秀西园</td>\n",
       "    </tr>\n",
       "  </tbody>\n",
       "</table>\n",
       "</div>"
      ],
      "text/plain": [
       "  House_Type  Transaction_Cycle  Num_Look  Attention  Construction_Area  \\\n",
       "0       1室1厅              149.0         4          9               46.0   \n",
       "1       3室2厅                8.0         4          8              150.0   \n",
       "2       2室1厅               43.0         1          0               59.0   \n",
       "3       2室2厅              105.0        18        167               89.0   \n",
       "4       2室2厅              108.0         0         25               80.0   \n",
       "\n",
       "      Age Renovation Construction_struct Ladder_Ratio Elevator  Storey  \\\n",
       "0  2013.0         其他                钢混结构         一梯六户        有    28.0   \n",
       "1  2005.0         简装                钢混结构         两梯两户        有    32.0   \n",
       "2  1986.0         精装                砖混结构         一梯四户        无     6.0   \n",
       "3  2011.0         其他                钢混结构         两梯四户        有    18.0   \n",
       "4  2008.0         其他                钢混结构         一梯四户        有    11.0   \n",
       "\n",
       "   Ladder  Household Region Road Community_Name  \n",
       "0     1.0        6.0     浦东   三林           城林雅苑  \n",
       "1     2.0        2.0     浦东   源深           盛世年华  \n",
       "2     1.0        4.0     浦东   世博           雪野二村  \n",
       "3     2.0        4.0     浦东   周浦           印象春城  \n",
       "4     1.0        4.0     浦东   康桥           双秀西园  "
      ]
     },
     "execution_count": 4,
     "metadata": {},
     "output_type": "execute_result"
    }
   ],
   "source": [
    "raw_data = raw_data[cols]\n",
    "raw_data"
   ]
  },
  {
   "cell_type": "code",
   "execution_count": 5,
   "metadata": {},
   "outputs": [],
   "source": [
    "# 预测模块"
   ]
  },
  {
   "cell_type": "code",
   "execution_count": 13,
   "metadata": {},
   "outputs": [],
   "source": [
    "from main_predict import price_predict\n",
    "encoder_path='../../../output/Price_System/Price_Predict/results/encoder.csv'\n",
    "standModel_path='../../../output/Price_System/Price_Predict/model/stand.pkl'\n",
    "model_path='../../../output/Price_System/Price_Predict/model/price_predict_bagging.pkl'\n",
    "model_forMissing_path='../../../output/Price_System/Price_Predict/model/price_predict_xgboost.pkl'\n",
    "select_feature_path='../../../output/Price_System/Price_Predict/results/feature.txt'\n",
    "column_stand_path='../../../output/Price_System/Price_Predict/results/featureOrder.txt'\n",
    "cols_path='../../../output/Price_System/Price_Predict/results/cols.json'"
   ]
  },
  {
   "cell_type": "code",
   "execution_count": 14,
   "metadata": {},
   "outputs": [
    {
     "name": "stdout",
     "output_type": "stream",
     "text": [
      "经纬度编码结束\n",
      "字符类型编码结束\n",
      "数据标准化结束\n",
      "[200.1, 1385.0, 350.6, 377.5, 217.5]\n"
     ]
    }
   ],
   "source": [
    "result_bagging = price_predict(raw_data, encoder_path, standModel_path, model_path, model_forMissing_path, select_feature_path, column_stand_path, cols_path)\n",
    "print(result_bagging)"
   ]
  },
  {
   "cell_type": "code",
   "execution_count": null,
   "metadata": {},
   "outputs": [],
   "source": []
  },
  {
   "cell_type": "code",
   "execution_count": 15,
   "metadata": {},
   "outputs": [
    {
     "name": "stdout",
     "output_type": "stream",
     "text": [
      "经纬度编码结束\n",
      "字符类型编码结束\n",
      "数据标准化结束\n",
      "[174.86778, 1586.985, 338.63696, 362.11584, 291.18683]\n"
     ]
    }
   ],
   "source": [
    "model_path='../../../output/Price_System/Price_Predict/model/price_predict_xgboost.pkl'\n",
    "result_xgboost = price_predict(raw_data, encoder_path, standModel_path, model_path, model_forMissing_path, select_feature_path, column_stand_path, cols_path)\n",
    "print(result_xgboost)"
   ]
  },
  {
   "cell_type": "code",
   "execution_count": 17,
   "metadata": {},
   "outputs": [
    {
     "name": "stdout",
     "output_type": "stream",
     "text": [
      "[218.0, 1620.0, 368.0, 368.0, 289.0]\n",
      "bagging:\n",
      "[200.1, 1385.0, 350.6, 377.5, 217.5]\n",
      "xgboost:\n",
      "[174.86778, 1586.985, 338.63696, 362.11584, 291.18683]\n"
     ]
    }
   ],
   "source": [
    "print(list(raw_data_price))\n",
    "print('bagging:')\n",
    "print(result_bagging)\n",
    "print('xgboost:')\n",
    "print(result_xgboost)"
   ]
  },
  {
   "cell_type": "code",
   "execution_count": null,
   "metadata": {},
   "outputs": [],
   "source": []
  },
  {
   "cell_type": "code",
   "execution_count": 9,
   "metadata": {},
   "outputs": [],
   "source": [
    "input_data ={\"Region\": \"闵行\",\"Road\": \"莘庄\",\"Community_Name\":\"上海康城\",\"House_Type\":\"2室1厅\",\"Construction_Area\": 100,\"Age\":2008,\"Renovation\":\"简装\",\"Construction_struct\":\"钢混结构\",\"Ladder_Ratio\":\"两梯两户\",\"Elevator\":\"有\",\"Storey\":6,\"Ladder\":2,\"Transaction_Cycle\":8,\"Num_Look\":4,\"Attention\":8,\"Household\":4}"
   ]
  },
  {
   "cell_type": "code",
   "execution_count": 10,
   "metadata": {},
   "outputs": [],
   "source": [
    "raw_data1=pd.DataFrame(input_data,index=[0])"
   ]
  },
  {
   "cell_type": "code",
   "execution_count": 11,
   "metadata": {},
   "outputs": [
    {
     "name": "stdout",
     "output_type": "stream",
     "text": [
      "经纬度编码结束\n",
      "字符类型编码结束\n",
      "数据标准化结束\n"
     ]
    }
   ],
   "source": [
    "result1 = price_predict(raw_data1, encoder_path, standModel_path, model_path, model_forMissing_path, select_feature_path, column_stand_path, cols_path)"
   ]
  },
  {
   "cell_type": "code",
   "execution_count": 12,
   "metadata": {},
   "outputs": [
    {
     "data": {
      "text/plain": [
       "[385.269]"
      ]
     },
     "execution_count": 12,
     "metadata": {},
     "output_type": "execute_result"
    }
   ],
   "source": [
    "result1"
   ]
  }
 ],
 "metadata": {
  "kernelspec": {
   "display_name": "Python 3",
   "language": "python",
   "name": "python3"
  },
  "language_info": {
   "codemirror_mode": {
    "name": "ipython",
    "version": 3
   },
   "file_extension": ".py",
   "mimetype": "text/x-python",
   "name": "python",
   "nbconvert_exporter": "python",
   "pygments_lexer": "ipython3",
   "version": "3.7.5"
  }
 },
 "nbformat": 4,
 "nbformat_minor": 2
}
