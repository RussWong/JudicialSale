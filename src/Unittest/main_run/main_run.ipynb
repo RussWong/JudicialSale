{
 "cells": [
  {
   "cell_type": "code",
   "execution_count": 3,
   "metadata": {},
   "outputs": [
    {
     "name": "stdout",
     "output_type": "stream",
     "text": [
      "测试开始\n",
      "需要测试的模块：test_search\n",
      "<ipykernel.iostream.OutStream object at 0x7fa9f4d96240> \n",
      "Time Elapsed: 0:00:00.000558\n",
      "测试结束\n"
     ]
    },
    {
     "name": "stderr",
     "output_type": "stream",
     "text": [
      "..."
     ]
    }
   ],
   "source": [
    "%run main_run.py"
   ]
  },
  {
   "cell_type": "code",
   "execution_count": null,
   "metadata": {},
   "outputs": [],
   "source": []
  }
 ],
 "metadata": {
  "kernelspec": {
   "display_name": "huangzhiwei",
   "language": "python",
   "name": "huangzhiwei"
  },
  "language_info": {
   "codemirror_mode": {
    "name": "ipython",
    "version": 3
   },
   "file_extension": ".py",
   "mimetype": "text/x-python",
   "name": "python",
   "nbconvert_exporter": "python",
   "pygments_lexer": "ipython3",
   "version": "3.6.3"
  }
 },
 "nbformat": 4,
 "nbformat_minor": 2
}
