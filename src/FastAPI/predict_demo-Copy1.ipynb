{
 "cells": [
  {
   "cell_type": "code",
   "execution_count": 1,
   "metadata": {},
   "outputs": [],
   "source": [
    "import sys\n",
    "import pandas as pd\n",
    "import numpy as np\n",
    "import matplotlib.pyplot as plt\n",
    "from pylab import mpl\n",
    "import json\n",
    "sys.path.append('../Price_System/Price_Predict')\n",
    "sys.path.append('/home/zhangjianquan/anaconda3/lib/python3.7/site-packages/')"
   ]
  },
  {
   "cell_type": "code",
   "execution_count": 2,
   "metadata": {},
   "outputs": [],
   "source": [
    "# raw_data=pd.read_csv('../../../Data/Price_System/Price_Predict/raw/house/used_house_data_test.csv')\n",
    "# cols = ['House_Type', 'Transaction_Cycle', 'Num_Look',\n",
    "#        'Attention', 'Construction_Area', 'Age', 'Renovation',\n",
    "#        'Construction_struct', 'Ladder_Ratio', 'Elevator', 'Storey', 'Ladder',\n",
    "#        'Household', 'Region', 'Road', 'Community_Name']\n",
    "# raw_data = raw_data[cols]\n",
    "# raw_data = raw_data.head()\n",
    "# raw_data\n"
   ]
  },
  {
   "cell_type": "code",
   "execution_count": 3,
   "metadata": {},
   "outputs": [],
   "source": [
    "# raw_data.columns"
   ]
  },
  {
   "cell_type": "code",
   "execution_count": 4,
   "metadata": {},
   "outputs": [],
   "source": [
    "# 预测模块"
   ]
  },
  {
   "cell_type": "code",
   "execution_count": 5,
   "metadata": {},
   "outputs": [],
   "source": [
    "# from main_predict import price_predict\n",
    "# encoder_path='../../../output/Price_System/Price_Predict/results/encoder.csv'\n",
    "# standModel_path='../../../output/Price_System/Price_Predict/model/stand.pkl'\n",
    "# model_path='../../../output/Price_System/Price_Predict/model/price_predict_xgboost.pkl'\n",
    "# select_feature_path='../../../output/Price_System/Price_Predict/results/feature.txt'\n",
    "# column_stand_path='../../../output/Price_System/Price_Predict/results/featureOrder.txt'\n",
    "# cols_path='../../../output/Price_System/Price_Predict/results/cols.json'"
   ]
  },
  {
   "cell_type": "code",
   "execution_count": 6,
   "metadata": {},
   "outputs": [],
   "source": [
    "# result = price_predict(raw_data, encoder_path, standModel_path, model_path, select_feature_path, column_stand_path, cols_path)"
   ]
  },
  {
   "cell_type": "code",
   "execution_count": 7,
   "metadata": {},
   "outputs": [],
   "source": [
    "# result"
   ]
  },
  {
   "cell_type": "code",
   "execution_count": 8,
   "metadata": {},
   "outputs": [],
   "source": [
    "from main_predict import price_predict\n",
    "encoder_path='../../output/Price_System/Price_Predict/results/encoder.csv'\n",
    "standModel_path='../../output/Price_System/Price_Predict/model/stand.pkl'\n",
    "model_path='../../output/Price_System/Price_Predict/model/price_predict_xgboost.pkl'\n",
    "select_feature_path='../../output/Price_System/Price_Predict/results/feature.txt'\n",
    "column_stand_path='../../output/Price_System/Price_Predict/results/featureOrder.txt'\n",
    "cols_path='../../output/Price_System/Price_Predict/results/cols.json'"
   ]
  },
  {
   "cell_type": "code",
   "execution_count": 9,
   "metadata": {},
   "outputs": [],
   "source": [
    "input_data ={\"Region\": \"闵行\",\"Road\": \"莘庄\",\"Community_Name\":\"上海康城\",\"House_Type\":\"2室1厅\",\"Construction_Area\": 100,\"Age\":2008,\"Renovation\":\"简装\",\"Construction_struct\":\"钢混结构\",\"Ladder_Ratio\":\"两梯两户\",\"Elevator\":\"有\",\"Storey\":6,\"Ladder\":2,\"Transaction_Cycle\":8,\"Num_Look\":4,\"Attention\":8,\"Household\":4}"
   ]
  },
  {
   "cell_type": "code",
   "execution_count": 10,
   "metadata": {},
   "outputs": [],
   "source": [
    "raw_data1=pd.DataFrame(input_data,index=[0])"
   ]
  },
  {
   "cell_type": "code",
   "execution_count": 11,
   "metadata": {},
   "outputs": [
    {
     "name": "stdout",
     "output_type": "stream",
     "text": [
      "==== 数据标准化开始 ====\n",
      "remove target\n",
      "==== 数据标准化结束 ====\n"
     ]
    }
   ],
   "source": [
    "predict_result =price_predict(raw_data1, encoder_path, standModel_path, model_path, select_feature_path, column_stand_path, cols_path)"
   ]
  },
  {
   "cell_type": "code",
   "execution_count": 12,
   "metadata": {},
   "outputs": [
    {
     "data": {
      "text/plain": [
       "[385.269]"
      ]
     },
     "execution_count": 12,
     "metadata": {},
     "output_type": "execute_result"
    }
   ],
   "source": [
    "predict_result"
   ]
  }
 ],
 "metadata": {
  "kernelspec": {
   "display_name": "Python 3",
   "language": "python",
   "name": "python3"
  },
  "language_info": {
   "codemirror_mode": {
    "name": "ipython",
    "version": 3
   },
   "file_extension": ".py",
   "mimetype": "text/x-python",
   "name": "python",
   "nbconvert_exporter": "python",
   "pygments_lexer": "ipython3",
   "version": "3.7.5"
  }
 },
 "nbformat": 4,
 "nbformat_minor": 2
}
